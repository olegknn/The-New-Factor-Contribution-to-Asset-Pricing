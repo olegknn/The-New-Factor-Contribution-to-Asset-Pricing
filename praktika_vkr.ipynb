{
 "cells": [
  {
   "cell_type": "code",
   "execution_count": 1,
   "id": "9dfe1828",
   "metadata": {},
   "outputs": [],
   "source": [
    "import pandas as pd\n",
    "import numpy as np\n",
    "from sklearn import linear_model\n",
    "import statsmodels.api as sm"
   ]
  },
  {
   "cell_type": "markdown",
   "id": "f9edb7fe",
   "metadata": {},
   "source": [
    "### Import Precalculated Compustat Data"
   ]
  },
  {
   "cell_type": "code",
   "execution_count": 14,
   "id": "305d7b0f",
   "metadata": {},
   "outputs": [],
   "source": [
    "assets = pd.read_csv('/Users/olegbodrov/Hse/Thesis/Data/assets.csv', index_col='date')\n",
    "factors = pd.read_csv('/Users/olegbodrov/Hse/Thesis/Data/factors.csv', index_col='date')\n",
    "rm = pd.read_csv('/Users/olegbodrov/Hse/Thesis/Data/rm.csv', index_col='date')"
   ]
  },
  {
   "cell_type": "code",
   "execution_count": 315,
   "id": "e907d80f",
   "metadata": {},
   "outputs": [
    {
     "name": "stdout",
     "output_type": "stream",
     "text": [
      "AccrualsToAssets\n",
      "BuybackYield\n",
      "CashFlowToDebt\n",
      "CashFlowYield\n",
      "ClassicMomentumRelativeToBenchmark\n",
      "ClassicMomentumRelativeToSP500\n",
      "CommonEquityToAssets\n",
      "CurrentPE\n",
      "DebtToEquity\n",
      "DepreciationToCapEx\n",
      "DividendYield\n",
      "EarningsYield\n",
      "EBITDAToEnterpriseValue\n",
      "FreeCashFlowYield\n",
      "GrossMargin\n",
      "LongTermDebtToAssets\n",
      "OperatingIncomeYield\n",
      "OperatingMargin\n",
      "PriceToBook\n",
      "PriceToCashFlow\n",
      "PriceToSales\n",
      "ROA\n",
      "ROE\n",
      "SalesYld\n",
      "ShareholderYield\n",
      "ClassicMomentum\n",
      "AccrualsToTTMAssets\n",
      "Debt\n",
      "TradingVolumeUsd1M\n",
      "SP500ClassicMomentum\n",
      "MomentumResidual1M\n",
      "MomentumResidual1Q\n",
      "MomentumResidual1Yr\n",
      "MomentumResidual6M\n",
      "FFMse5Yr\n",
      "FFRSquared5Yr\n",
      "FFMse3Yr\n",
      "FFRSquared3Yr\n",
      "FFMse1Yr\n",
      "FFRSquared1Yr\n",
      "Beta5Yr\n",
      "Beta3Yr\n",
      "Beta1Yr\n",
      "BenchmarkClassicMomentum\n",
      "DebtGrowth1Yr\n",
      "DebtGrowth5Yr\n",
      "DivYieldChange1Yr\n",
      "DivYieldChange5Yr\n",
      "EarningsChange1YrToCap\n",
      "EarningsChange1YrToSales\n",
      "EarningsChange5YrToCap\n",
      "EarningsChange5YrToSales\n",
      "EpsGrowth1Yr\n",
      "EpsGrowth5Yr\n",
      "FCFChange1YrToCap\n",
      "FCFChange1YrToSales\n",
      "FCFChange5YrToCap\n",
      "FCFChange5YrToSales\n",
      "FCFYldChange1Yr\n",
      "FCFYldChange5Yr\n",
      "FreeCashFlowGrowth1Yr\n",
      "FreeCashFlowGrowth5Yr\n",
      "NetOperatingAssetsGrowth1Yr\n",
      "NetOperatingAssetsGrowth5Yr\n",
      "OperatingEpsGrowth1Yr\n",
      "OperatingEpsGrowth5Yr\n",
      "OperatingMarginGrowth1Yr\n",
      "OperatingMarginGrowth5Yr\n",
      "SalesGrowth1Yr\n",
      "SalesGrowth5Yr\n",
      "SalesPerShareGrowth1Yr\n",
      "SalesPerShareGrowth5Yr\n",
      "SalesYldGrowth1Yr\n",
      "SalesYldGrowth5Yr\n",
      "SalesPerShareGrowth2Yr\n",
      "SalesPerShareGrowth3Yr\n",
      "EPSChage1YrToPrice\n",
      "EPSChage2YrToPrice\n",
      "EPSChage3YrToPrice\n",
      "MomentumResidualClassic\n",
      "IdiosyncraticRiskMSE\n",
      "IdiosyncraticRiskR2\n",
      "Alpha1Yr\n",
      "Alpha3Yr\n",
      "Alpha5Yr\n",
      "DividendGrowth1Yr\n",
      "DividendGrowth3Yr\n",
      "DividendGrowth5Yr\n"
     ]
    }
   ],
   "source": [
    "for factor in factors.columns:\n",
    "    print(factor)"
   ]
  },
  {
   "cell_type": "markdown",
   "id": "3a348777",
   "metadata": {},
   "source": [
    "### Evaluate contribution of test_factors"
   ]
  },
  {
   "cell_type": "markdown",
   "id": "96586829",
   "metadata": {},
   "source": [
    "### Data preparation"
   ]
  },
  {
   "cell_type": "code",
   "execution_count": 34,
   "id": "c4b7043b",
   "metadata": {},
   "outputs": [],
   "source": [
    "test_factors_name = [\n",
    "    'MomentumResidual1M',\n",
    "    'MomentumResidual6M',\n",
    "    'MomentumResidual1Q',\n",
    "    'MomentumResidual1Yr',\n",
    "    'MomentumResidualClassic'\n",
    "]"
   ]
  },
  {
   "cell_type": "code",
   "execution_count": 227,
   "id": "00a791e5",
   "metadata": {},
   "outputs": [],
   "source": [
    "factors = factors.apply(lambda x: (x - x.mean()) / x.std())"
   ]
  },
  {
   "cell_type": "code",
   "execution_count": 231,
   "id": "cac687a1",
   "metadata": {},
   "outputs": [],
   "source": [
    "# Substract benchmark return from assets\n",
    "assets = assets - (np.array(rm).reshape((len(rm), 1)) * np.ones((1, len(assets.columns))))"
   ]
  },
  {
   "cell_type": "code",
   "execution_count": 232,
   "id": "21886936",
   "metadata": {},
   "outputs": [],
   "source": [
    "# Choose control factors\n",
    "control_factors_name = [e for e in factors.columns if e not in test_factors]"
   ]
  },
  {
   "cell_type": "code",
   "execution_count": 233,
   "id": "c3f29658",
   "metadata": {},
   "outputs": [],
   "source": [
    "# Divide factors' data in control and test groups\n",
    "control_factors = factors[control_factors_name]\n",
    "test_factors = factors[test_factors_name]"
   ]
  },
  {
   "cell_type": "code",
   "execution_count": 234,
   "id": "b53bafee",
   "metadata": {
    "scrolled": true
   },
   "outputs": [
    {
     "name": "stderr",
     "output_type": "stream",
     "text": [
      "<ipython-input-234-e2fdce9177ea>:11: RuntimeWarning: Degrees of freedom <= 0 for slice\n",
      "  Ch.loc[i, j] = np.cov(\n",
      "/Users/olegbodrov/Library/Python/3.8/lib/python/site-packages/numpy/lib/function_base.py:2493: RuntimeWarning: divide by zero encountered in true_divide\n",
      "  c *= np.true_divide(1, fact)\n",
      "/Users/olegbodrov/Library/Python/3.8/lib/python/site-packages/numpy/lib/function_base.py:2493: RuntimeWarning: invalid value encountered in multiply\n",
      "  c *= np.true_divide(1, fact)\n"
     ]
    }
   ],
   "source": [
    "# Calculate matrix of covariances of assets' returns with control factors\n",
    "Ch = pd.DataFrame(\n",
    "    index=assets.columns,\n",
    "    columns=control_factors.columns\n",
    ")\n",
    "for i in assets.columns:\n",
    "    for j in control_factors.columns:\n",
    "        index = assets[assets[i].notnull()].loc[:, i].index.intersection(\n",
    "            factors[factors[j].notnull()].loc[:, j].index\n",
    "        )\n",
    "        Ch.loc[i, j] = np.cov(\n",
    "            np.array(assets.loc[index, i]),\n",
    "            np.array(control_factors.loc[index, j])\n",
    "        )[0, 1]"
   ]
  },
  {
   "cell_type": "code",
   "execution_count": 316,
   "id": "4915f300",
   "metadata": {},
   "outputs": [
    {
     "data": {
      "text/html": [
       "<div>\n",
       "<style scoped>\n",
       "    .dataframe tbody tr th:only-of-type {\n",
       "        vertical-align: middle;\n",
       "    }\n",
       "\n",
       "    .dataframe tbody tr th {\n",
       "        vertical-align: top;\n",
       "    }\n",
       "\n",
       "    .dataframe thead th {\n",
       "        text-align: right;\n",
       "    }\n",
       "</style>\n",
       "<table border=\"1\" class=\"dataframe\">\n",
       "  <thead>\n",
       "    <tr style=\"text-align: right;\">\n",
       "      <th></th>\n",
       "      <th>AccrualsToAssets</th>\n",
       "      <th>BuybackYield</th>\n",
       "      <th>CashFlowToDebt</th>\n",
       "      <th>CashFlowYield</th>\n",
       "      <th>ClassicMomentumRelativeToBenchmark</th>\n",
       "      <th>ClassicMomentumRelativeToSP500</th>\n",
       "      <th>CommonEquityToAssets</th>\n",
       "      <th>CurrentPE</th>\n",
       "      <th>DebtToEquity</th>\n",
       "      <th>DepreciationToCapEx</th>\n",
       "      <th>...</th>\n",
       "      <th>EPSChage2YrToPrice</th>\n",
       "      <th>EPSChage3YrToPrice</th>\n",
       "      <th>IdiosyncraticRiskMSE</th>\n",
       "      <th>IdiosyncraticRiskR2</th>\n",
       "      <th>Alpha1Yr</th>\n",
       "      <th>Alpha3Yr</th>\n",
       "      <th>Alpha5Yr</th>\n",
       "      <th>DividendGrowth1Yr</th>\n",
       "      <th>DividendGrowth3Yr</th>\n",
       "      <th>DividendGrowth5Yr</th>\n",
       "    </tr>\n",
       "  </thead>\n",
       "  <tbody>\n",
       "    <tr>\n",
       "      <th>00100401</th>\n",
       "      <td>-0.010284</td>\n",
       "      <td>0.005102</td>\n",
       "      <td>-0.024166</td>\n",
       "      <td>0.009499</td>\n",
       "      <td>-0.002938</td>\n",
       "      <td>0.000205</td>\n",
       "      <td>0.000061</td>\n",
       "      <td>-0.0078</td>\n",
       "      <td>0.00308</td>\n",
       "      <td>0.028375</td>\n",
       "      <td>...</td>\n",
       "      <td>-0.015544</td>\n",
       "      <td>-0.016324</td>\n",
       "      <td>-0.00441</td>\n",
       "      <td>0.006216</td>\n",
       "      <td>-0.001745</td>\n",
       "      <td>-0.014038</td>\n",
       "      <td>-0.017354</td>\n",
       "      <td>-0.025633</td>\n",
       "      <td>-0.026653</td>\n",
       "      <td>-0.02508</td>\n",
       "    </tr>\n",
       "    <tr>\n",
       "      <th>00104504</th>\n",
       "      <td>0.005521</td>\n",
       "      <td>0.014173</td>\n",
       "      <td>-0.012615</td>\n",
       "      <td>0.007677</td>\n",
       "      <td>-0.009676</td>\n",
       "      <td>-0.007407</td>\n",
       "      <td>-0.009532</td>\n",
       "      <td>-0.01183</td>\n",
       "      <td>0.001867</td>\n",
       "      <td>0.005074</td>\n",
       "      <td>...</td>\n",
       "      <td>0.00002</td>\n",
       "      <td>-0.003845</td>\n",
       "      <td>-0.010092</td>\n",
       "      <td>-0.02118</td>\n",
       "      <td>-0.011877</td>\n",
       "      <td>-0.010438</td>\n",
       "      <td>-0.008626</td>\n",
       "      <td>-0.008079</td>\n",
       "      <td>-0.014115</td>\n",
       "      <td>-0.00939</td>\n",
       "    </tr>\n",
       "    <tr>\n",
       "      <th>00107501</th>\n",
       "      <td>-0.004838</td>\n",
       "      <td>-0.015967</td>\n",
       "      <td>-0.001036</td>\n",
       "      <td>0.014711</td>\n",
       "      <td>0.022798</td>\n",
       "      <td>0.022757</td>\n",
       "      <td>-0.023221</td>\n",
       "      <td>-0.002651</td>\n",
       "      <td>0.024537</td>\n",
       "      <td>-0.004805</td>\n",
       "      <td>...</td>\n",
       "      <td>0.009111</td>\n",
       "      <td>0.013483</td>\n",
       "      <td>-0.062161</td>\n",
       "      <td>0.039889</td>\n",
       "      <td>0.029906</td>\n",
       "      <td>0.023715</td>\n",
       "      <td>0.028553</td>\n",
       "      <td>0.021566</td>\n",
       "      <td>0.016957</td>\n",
       "      <td>0.012822</td>\n",
       "    </tr>\n",
       "    <tr>\n",
       "      <th>00107601</th>\n",
       "      <td>-0.000792</td>\n",
       "      <td>-0.003071</td>\n",
       "      <td>-0.003138</td>\n",
       "      <td>0.012879</td>\n",
       "      <td>0.013648</td>\n",
       "      <td>0.013648</td>\n",
       "      <td>-0.009707</td>\n",
       "      <td>-0.008208</td>\n",
       "      <td>0.013849</td>\n",
       "      <td>-0.005065</td>\n",
       "      <td>...</td>\n",
       "      <td>0.006254</td>\n",
       "      <td>0.010681</td>\n",
       "      <td>-0.024908</td>\n",
       "      <td>0.034424</td>\n",
       "      <td>0.016128</td>\n",
       "      <td>0.006878</td>\n",
       "      <td>0.00763</td>\n",
       "      <td>0.002959</td>\n",
       "      <td>0.004004</td>\n",
       "      <td>0.00455</td>\n",
       "    </tr>\n",
       "    <tr>\n",
       "      <th>00107801</th>\n",
       "      <td>0.003084</td>\n",
       "      <td>-0.00781</td>\n",
       "      <td>0.017101</td>\n",
       "      <td>0.000186</td>\n",
       "      <td>0.028087</td>\n",
       "      <td>0.029601</td>\n",
       "      <td>-0.015702</td>\n",
       "      <td>0.008084</td>\n",
       "      <td>0.012421</td>\n",
       "      <td>-0.008857</td>\n",
       "      <td>...</td>\n",
       "      <td>0.014895</td>\n",
       "      <td>0.020471</td>\n",
       "      <td>-0.054731</td>\n",
       "      <td>0.034264</td>\n",
       "      <td>0.034454</td>\n",
       "      <td>0.029993</td>\n",
       "      <td>0.034626</td>\n",
       "      <td>0.033531</td>\n",
       "      <td>0.03501</td>\n",
       "      <td>0.032078</td>\n",
       "    </tr>\n",
       "  </tbody>\n",
       "</table>\n",
       "<p>5 rows × 83 columns</p>\n",
       "</div>"
      ],
      "text/plain": [
       "         AccrualsToAssets BuybackYield CashFlowToDebt CashFlowYield  \\\n",
       "00100401        -0.010284     0.005102      -0.024166      0.009499   \n",
       "00104504         0.005521     0.014173      -0.012615      0.007677   \n",
       "00107501        -0.004838    -0.015967      -0.001036      0.014711   \n",
       "00107601        -0.000792    -0.003071      -0.003138      0.012879   \n",
       "00107801         0.003084     -0.00781       0.017101      0.000186   \n",
       "\n",
       "         ClassicMomentumRelativeToBenchmark ClassicMomentumRelativeToSP500  \\\n",
       "00100401                          -0.002938                       0.000205   \n",
       "00104504                          -0.009676                      -0.007407   \n",
       "00107501                           0.022798                       0.022757   \n",
       "00107601                           0.013648                       0.013648   \n",
       "00107801                           0.028087                       0.029601   \n",
       "\n",
       "         CommonEquityToAssets CurrentPE DebtToEquity DepreciationToCapEx  ...  \\\n",
       "00100401             0.000061   -0.0078      0.00308            0.028375  ...   \n",
       "00104504            -0.009532  -0.01183     0.001867            0.005074  ...   \n",
       "00107501            -0.023221 -0.002651     0.024537           -0.004805  ...   \n",
       "00107601            -0.009707 -0.008208     0.013849           -0.005065  ...   \n",
       "00107801            -0.015702  0.008084     0.012421           -0.008857  ...   \n",
       "\n",
       "         EPSChage2YrToPrice EPSChage3YrToPrice IdiosyncraticRiskMSE  \\\n",
       "00100401          -0.015544          -0.016324             -0.00441   \n",
       "00104504            0.00002          -0.003845            -0.010092   \n",
       "00107501           0.009111           0.013483            -0.062161   \n",
       "00107601           0.006254           0.010681            -0.024908   \n",
       "00107801           0.014895           0.020471            -0.054731   \n",
       "\n",
       "         IdiosyncraticRiskR2  Alpha1Yr  Alpha3Yr  Alpha5Yr DividendGrowth1Yr  \\\n",
       "00100401            0.006216 -0.001745 -0.014038 -0.017354         -0.025633   \n",
       "00104504            -0.02118 -0.011877 -0.010438 -0.008626         -0.008079   \n",
       "00107501            0.039889  0.029906  0.023715  0.028553          0.021566   \n",
       "00107601            0.034424  0.016128  0.006878   0.00763          0.002959   \n",
       "00107801            0.034264  0.034454  0.029993  0.034626          0.033531   \n",
       "\n",
       "         DividendGrowth3Yr DividendGrowth5Yr  \n",
       "00100401         -0.026653          -0.02508  \n",
       "00104504         -0.014115          -0.00939  \n",
       "00107501          0.016957          0.012822  \n",
       "00107601          0.004004           0.00455  \n",
       "00107801           0.03501          0.032078  \n",
       "\n",
       "[5 rows x 83 columns]"
      ]
     },
     "execution_count": 316,
     "metadata": {},
     "output_type": "execute_result"
    }
   ],
   "source": [
    "Ch.head()"
   ]
  },
  {
   "cell_type": "code",
   "execution_count": 235,
   "id": "3849f374",
   "metadata": {},
   "outputs": [
    {
     "name": "stderr",
     "output_type": "stream",
     "text": [
      "<ipython-input-235-deceb1cbd1d0>:11: RuntimeWarning: Degrees of freedom <= 0 for slice\n",
      "  Cg.loc[i, j] = np.cov(\n"
     ]
    }
   ],
   "source": [
    "# Calculate matrix of covariances of assets' returns with test factors\n",
    "Cg = pd.DataFrame(\n",
    "    index=assets.columns,\n",
    "    columns=test_factors.columns\n",
    ")\n",
    "for i in assets.columns:\n",
    "    for j in test_factors.columns:\n",
    "        index = assets[assets[i].notnull()].loc[:, i].index.intersection(\n",
    "            factors[factors[j].notnull()].loc[:, j].index\n",
    "        )\n",
    "        Cg.loc[i, j] = np.cov(\n",
    "            np.array(assets.loc[index, i]),\n",
    "            np.array(test_factors.loc[index, j])\n",
    "        )[0, 1]"
   ]
  },
  {
   "cell_type": "code",
   "execution_count": 317,
   "id": "aaeba1bb",
   "metadata": {},
   "outputs": [
    {
     "data": {
      "text/html": [
       "<div>\n",
       "<style scoped>\n",
       "    .dataframe tbody tr th:only-of-type {\n",
       "        vertical-align: middle;\n",
       "    }\n",
       "\n",
       "    .dataframe tbody tr th {\n",
       "        vertical-align: top;\n",
       "    }\n",
       "\n",
       "    .dataframe thead th {\n",
       "        text-align: right;\n",
       "    }\n",
       "</style>\n",
       "<table border=\"1\" class=\"dataframe\">\n",
       "  <thead>\n",
       "    <tr style=\"text-align: right;\">\n",
       "      <th></th>\n",
       "      <th>MomentumResidual1M</th>\n",
       "      <th>MomentumResidual6M</th>\n",
       "      <th>MomentumResidual1Q</th>\n",
       "      <th>MomentumResidual1Yr</th>\n",
       "      <th>MomentumResidualClassic</th>\n",
       "    </tr>\n",
       "  </thead>\n",
       "  <tbody>\n",
       "    <tr>\n",
       "      <th>00100401</th>\n",
       "      <td>-0.002743</td>\n",
       "      <td>0.010886</td>\n",
       "      <td>0.00607</td>\n",
       "      <td>0.006768</td>\n",
       "      <td>0.007939</td>\n",
       "    </tr>\n",
       "    <tr>\n",
       "      <th>00104504</th>\n",
       "      <td>-0.017077</td>\n",
       "      <td>-0.005515</td>\n",
       "      <td>0.001383</td>\n",
       "      <td>-0.016767</td>\n",
       "      <td>-0.007737</td>\n",
       "    </tr>\n",
       "    <tr>\n",
       "      <th>00107501</th>\n",
       "      <td>-0.001893</td>\n",
       "      <td>0.022268</td>\n",
       "      <td>0.014811</td>\n",
       "      <td>0.028007</td>\n",
       "      <td>0.025049</td>\n",
       "    </tr>\n",
       "    <tr>\n",
       "      <th>00107601</th>\n",
       "      <td>0.004485</td>\n",
       "      <td>0.014272</td>\n",
       "      <td>0.009222</td>\n",
       "      <td>0.017764</td>\n",
       "      <td>0.015799</td>\n",
       "    </tr>\n",
       "    <tr>\n",
       "      <th>00107801</th>\n",
       "      <td>-0.00026</td>\n",
       "      <td>0.025887</td>\n",
       "      <td>0.016798</td>\n",
       "      <td>0.033761</td>\n",
       "      <td>0.028874</td>\n",
       "    </tr>\n",
       "  </tbody>\n",
       "</table>\n",
       "</div>"
      ],
      "text/plain": [
       "         MomentumResidual1M MomentumResidual6M MomentumResidual1Q  \\\n",
       "00100401          -0.002743           0.010886            0.00607   \n",
       "00104504          -0.017077          -0.005515           0.001383   \n",
       "00107501          -0.001893           0.022268           0.014811   \n",
       "00107601           0.004485           0.014272           0.009222   \n",
       "00107801           -0.00026           0.025887           0.016798   \n",
       "\n",
       "         MomentumResidual1Yr MomentumResidualClassic  \n",
       "00100401            0.006768                0.007939  \n",
       "00104504           -0.016767               -0.007737  \n",
       "00107501            0.028007                0.025049  \n",
       "00107601            0.017764                0.015799  \n",
       "00107801            0.033761                0.028874  "
      ]
     },
     "execution_count": 317,
     "metadata": {},
     "output_type": "execute_result"
    }
   ],
   "source": [
    "Cg.head()"
   ]
  },
  {
   "cell_type": "code",
   "execution_count": 236,
   "id": "284d9026",
   "metadata": {},
   "outputs": [],
   "source": [
    "# Calculate average return for each asset across time\n",
    "# It will be our regressand\n",
    "r_avg = assets.mean()"
   ]
  },
  {
   "cell_type": "code",
   "execution_count": 237,
   "id": "d4941c0a",
   "metadata": {},
   "outputs": [
    {
     "data": {
      "text/html": [
       "<div>\n",
       "<style scoped>\n",
       "    .dataframe tbody tr th:only-of-type {\n",
       "        vertical-align: middle;\n",
       "    }\n",
       "\n",
       "    .dataframe tbody tr th {\n",
       "        vertical-align: top;\n",
       "    }\n",
       "\n",
       "    .dataframe thead th {\n",
       "        text-align: right;\n",
       "    }\n",
       "</style>\n",
       "<table border=\"1\" class=\"dataframe\">\n",
       "  <thead>\n",
       "    <tr style=\"text-align: right;\">\n",
       "      <th></th>\n",
       "      <th>AccrualsToAssets</th>\n",
       "      <th>BuybackYield</th>\n",
       "      <th>CashFlowToDebt</th>\n",
       "      <th>CashFlowYield</th>\n",
       "      <th>ClassicMomentumRelativeToBenchmark</th>\n",
       "      <th>ClassicMomentumRelativeToSP500</th>\n",
       "      <th>CommonEquityToAssets</th>\n",
       "      <th>CurrentPE</th>\n",
       "      <th>DebtToEquity</th>\n",
       "      <th>DepreciationToCapEx</th>\n",
       "      <th>...</th>\n",
       "      <th>EPSChage2YrToPrice</th>\n",
       "      <th>EPSChage3YrToPrice</th>\n",
       "      <th>IdiosyncraticRiskMSE</th>\n",
       "      <th>IdiosyncraticRiskR2</th>\n",
       "      <th>Alpha1Yr</th>\n",
       "      <th>Alpha3Yr</th>\n",
       "      <th>Alpha5Yr</th>\n",
       "      <th>DividendGrowth1Yr</th>\n",
       "      <th>DividendGrowth3Yr</th>\n",
       "      <th>DividendGrowth5Yr</th>\n",
       "    </tr>\n",
       "  </thead>\n",
       "  <tbody>\n",
       "    <tr>\n",
       "      <th>03738201</th>\n",
       "      <td>NaN</td>\n",
       "      <td>NaN</td>\n",
       "      <td>NaN</td>\n",
       "      <td>NaN</td>\n",
       "      <td>NaN</td>\n",
       "      <td>NaN</td>\n",
       "      <td>NaN</td>\n",
       "      <td>NaN</td>\n",
       "      <td>NaN</td>\n",
       "      <td>NaN</td>\n",
       "      <td>...</td>\n",
       "      <td>NaN</td>\n",
       "      <td>NaN</td>\n",
       "      <td>NaN</td>\n",
       "      <td>NaN</td>\n",
       "      <td>NaN</td>\n",
       "      <td>NaN</td>\n",
       "      <td>NaN</td>\n",
       "      <td>NaN</td>\n",
       "      <td>NaN</td>\n",
       "      <td>NaN</td>\n",
       "    </tr>\n",
       "    <tr>\n",
       "      <th>03744501</th>\n",
       "      <td>NaN</td>\n",
       "      <td>NaN</td>\n",
       "      <td>NaN</td>\n",
       "      <td>NaN</td>\n",
       "      <td>NaN</td>\n",
       "      <td>NaN</td>\n",
       "      <td>NaN</td>\n",
       "      <td>NaN</td>\n",
       "      <td>NaN</td>\n",
       "      <td>NaN</td>\n",
       "      <td>...</td>\n",
       "      <td>NaN</td>\n",
       "      <td>NaN</td>\n",
       "      <td>NaN</td>\n",
       "      <td>NaN</td>\n",
       "      <td>NaN</td>\n",
       "      <td>NaN</td>\n",
       "      <td>NaN</td>\n",
       "      <td>NaN</td>\n",
       "      <td>NaN</td>\n",
       "      <td>NaN</td>\n",
       "    </tr>\n",
       "  </tbody>\n",
       "</table>\n",
       "<p>2 rows × 83 columns</p>\n",
       "</div>"
      ],
      "text/plain": [
       "         AccrualsToAssets BuybackYield CashFlowToDebt CashFlowYield  \\\n",
       "03738201              NaN          NaN            NaN           NaN   \n",
       "03744501              NaN          NaN            NaN           NaN   \n",
       "\n",
       "         ClassicMomentumRelativeToBenchmark ClassicMomentumRelativeToSP500  \\\n",
       "03738201                                NaN                            NaN   \n",
       "03744501                                NaN                            NaN   \n",
       "\n",
       "         CommonEquityToAssets CurrentPE DebtToEquity DepreciationToCapEx  ...  \\\n",
       "03738201                  NaN       NaN          NaN                 NaN  ...   \n",
       "03744501                  NaN       NaN          NaN                 NaN  ...   \n",
       "\n",
       "         EPSChage2YrToPrice EPSChage3YrToPrice IdiosyncraticRiskMSE  \\\n",
       "03738201                NaN                NaN                  NaN   \n",
       "03744501                NaN                NaN                  NaN   \n",
       "\n",
       "         IdiosyncraticRiskR2 Alpha1Yr Alpha3Yr Alpha5Yr DividendGrowth1Yr  \\\n",
       "03738201                 NaN      NaN      NaN      NaN               NaN   \n",
       "03744501                 NaN      NaN      NaN      NaN               NaN   \n",
       "\n",
       "         DividendGrowth3Yr DividendGrowth5Yr  \n",
       "03738201               NaN               NaN  \n",
       "03744501               NaN               NaN  \n",
       "\n",
       "[2 rows x 83 columns]"
      ]
     },
     "execution_count": 237,
     "metadata": {},
     "output_type": "execute_result"
    }
   ],
   "source": [
    "# Check for NaNs\n",
    "Ch[Ch.isna().any(axis=1)]"
   ]
  },
  {
   "cell_type": "code",
   "execution_count": 238,
   "id": "b2b8a733",
   "metadata": {},
   "outputs": [
    {
     "data": {
      "text/html": [
       "<div>\n",
       "<style scoped>\n",
       "    .dataframe tbody tr th:only-of-type {\n",
       "        vertical-align: middle;\n",
       "    }\n",
       "\n",
       "    .dataframe tbody tr th {\n",
       "        vertical-align: top;\n",
       "    }\n",
       "\n",
       "    .dataframe thead th {\n",
       "        text-align: right;\n",
       "    }\n",
       "</style>\n",
       "<table border=\"1\" class=\"dataframe\">\n",
       "  <thead>\n",
       "    <tr style=\"text-align: right;\">\n",
       "      <th></th>\n",
       "      <th>MomentumResidual1M</th>\n",
       "      <th>MomentumResidual6M</th>\n",
       "      <th>MomentumResidual1Q</th>\n",
       "      <th>MomentumResidual1Yr</th>\n",
       "      <th>MomentumResidualClassic</th>\n",
       "    </tr>\n",
       "  </thead>\n",
       "  <tbody>\n",
       "    <tr>\n",
       "      <th>03738201</th>\n",
       "      <td>NaN</td>\n",
       "      <td>NaN</td>\n",
       "      <td>NaN</td>\n",
       "      <td>NaN</td>\n",
       "      <td>NaN</td>\n",
       "    </tr>\n",
       "    <tr>\n",
       "      <th>03744501</th>\n",
       "      <td>NaN</td>\n",
       "      <td>NaN</td>\n",
       "      <td>NaN</td>\n",
       "      <td>NaN</td>\n",
       "      <td>NaN</td>\n",
       "    </tr>\n",
       "  </tbody>\n",
       "</table>\n",
       "</div>"
      ],
      "text/plain": [
       "         MomentumResidual1M MomentumResidual6M MomentumResidual1Q  \\\n",
       "03738201                NaN                NaN                NaN   \n",
       "03744501                NaN                NaN                NaN   \n",
       "\n",
       "         MomentumResidual1Yr MomentumResidualClassic  \n",
       "03738201                 NaN                     NaN  \n",
       "03744501                 NaN                     NaN  "
      ]
     },
     "execution_count": 238,
     "metadata": {},
     "output_type": "execute_result"
    }
   ],
   "source": [
    "Cg[Cg.isna().any(axis=1)]"
   ]
  },
  {
   "cell_type": "code",
   "execution_count": 239,
   "id": "d7a13ec9",
   "metadata": {},
   "outputs": [],
   "source": [
    "# Unfortunately we should say goodbuy to two observations\n",
    "Ch.drop(['03738201', '03744501'], axis=0, inplace=True)\n",
    "Cg.drop(['03738201', '03744501'], axis=0, inplace=True)\n",
    "r_avg.drop(['03738201', '03744501'], axis=0, inplace=True)"
   ]
  },
  {
   "cell_type": "markdown",
   "id": "67c5d49d",
   "metadata": {},
   "source": [
    "### 1st Lasso. Get the parsimonius factor model in explaining cross-section returns"
   ]
  },
  {
   "cell_type": "code",
   "execution_count": 297,
   "id": "fd20510f",
   "metadata": {},
   "outputs": [],
   "source": [
    "lasso_1 = linear_model.LassoCV(cv=10, n_alphas=200, max_iter=100000)\n",
    "lasso_1.fit(Ch, r_avg)\n",
    "lasso_1_coef = lasso_1.coef_"
   ]
  },
  {
   "cell_type": "code",
   "execution_count": 298,
   "id": "1c72fe74",
   "metadata": {},
   "outputs": [
    {
     "data": {
      "text/plain": [
       "3.5912447809481654e-07"
      ]
     },
     "execution_count": 298,
     "metadata": {},
     "output_type": "execute_result"
    }
   ],
   "source": [
    "lasso_1.alpha_"
   ]
  },
  {
   "cell_type": "code",
   "execution_count": 299,
   "id": "9a2ecb3b",
   "metadata": {},
   "outputs": [
    {
     "name": "stdout",
     "output_type": "stream",
     "text": [
      "AccrualsToAssets\n",
      "BuybackYield\n",
      "CashFlowYield\n",
      "ClassicMomentumRelativeToSP500\n",
      "CommonEquityToAssets\n",
      "DebtToEquity\n",
      "DepreciationToCapEx\n",
      "DividendYield\n",
      "EarningsYield\n",
      "EBITDAToEnterpriseValue\n",
      "FreeCashFlowYield\n",
      "GrossMargin\n",
      "LongTermDebtToAssets\n",
      "OperatingIncomeYield\n",
      "OperatingMargin\n",
      "PriceToBook\n",
      "PriceToCashFlow\n",
      "ROA\n",
      "ROE\n",
      "ShareholderYield\n",
      "ClassicMomentum\n",
      "Debt\n",
      "SP500ClassicMomentum\n",
      "FFMse5Yr\n",
      "FFRSquared5Yr\n",
      "FFRSquared3Yr\n",
      "FFMse1Yr\n",
      "Beta1Yr\n",
      "BenchmarkClassicMomentum\n",
      "DebtGrowth1Yr\n",
      "DebtGrowth5Yr\n",
      "DivYieldChange1Yr\n",
      "DivYieldChange5Yr\n",
      "EarningsChange1YrToCap\n",
      "EarningsChange1YrToSales\n",
      "EpsGrowth1Yr\n",
      "EpsGrowth5Yr\n",
      "FCFChange1YrToCap\n",
      "FCFChange1YrToSales\n",
      "FCFYldChange1Yr\n",
      "FCFYldChange5Yr\n",
      "FreeCashFlowGrowth1Yr\n",
      "FreeCashFlowGrowth5Yr\n",
      "NetOperatingAssetsGrowth1Yr\n",
      "NetOperatingAssetsGrowth5Yr\n",
      "OperatingMarginGrowth1Yr\n",
      "OperatingMarginGrowth5Yr\n",
      "SalesGrowth1Yr\n",
      "SalesGrowth5Yr\n",
      "SalesPerShareGrowth1Yr\n",
      "SalesYldGrowth1Yr\n",
      "SalesYldGrowth5Yr\n",
      "SalesPerShareGrowth3Yr\n",
      "EPSChage2YrToPrice\n",
      "IdiosyncraticRiskR2\n",
      "Alpha1Yr\n",
      "Alpha3Yr\n",
      "DividendGrowth1Yr\n",
      "DividendGrowth3Yr\n",
      "DividendGrowth5Yr\n"
     ]
    }
   ],
   "source": [
    "# Select factors with non zero coefficients\n",
    "factors_to_ols = []\n",
    "for i, e in enumerate(lasso_1_coef):\n",
    "    if e != 0:\n",
    "        factor = control_factors.columns[i]\n",
    "        factors_to_ols.append(factor)\n",
    "        print(factor)"
   ]
  },
  {
   "cell_type": "code",
   "execution_count": 113,
   "id": "e273abb1",
   "metadata": {},
   "outputs": [
    {
     "name": "stdout",
     "output_type": "stream",
     "text": [
      "CashFlowToDebt\n",
      "ClassicMomentumRelativeToBenchmark\n",
      "CurrentPE\n",
      "PriceToSales\n",
      "ROA\n",
      "SalesYld\n",
      "AccrualsToTTMAssets\n",
      "FFMse3Yr\n",
      "FFRSquared1Yr\n",
      "Beta5Yr\n",
      "BenchmarkClassicMomentum\n",
      "EarningsChange5YrToSales\n",
      "FCFChange5YrToCap\n",
      "FCFChange5YrToSales\n",
      "FCFYldChange1Yr\n",
      "NetOperatingAssetsGrowth5Yr\n",
      "OperatingEpsGrowth1Yr\n",
      "SalesPerShareGrowth5Yr\n",
      "SalesPerShareGrowth2Yr\n",
      "EPSChage1YrToPrice\n",
      "EPSChage2YrToPrice\n",
      "EPSChage3YrToPrice\n",
      "IdiosyncraticRiskMSE\n",
      "Alpha3Yr\n"
     ]
    }
   ],
   "source": [
    "# Factors with zero lasso coef\n",
    "for i, e in enumerate(lasso_1_coef):\n",
    "    if e == 0:\n",
    "        factor = control_factors.columns[i]\n",
    "        print(factor)"
   ]
  },
  {
   "cell_type": "markdown",
   "id": "4c728fa5",
   "metadata": {},
   "source": [
    "### Alternative to CV. Manually choose penalty in Lasso."
   ]
  },
  {
   "cell_type": "code",
   "execution_count": 322,
   "id": "a3d1846f",
   "metadata": {},
   "outputs": [
    {
     "data": {
      "text/plain": [
       "3.5912447809481654e-07"
      ]
     },
     "execution_count": 322,
     "metadata": {},
     "output_type": "execute_result"
    }
   ],
   "source": [
    "lasso_1.alpha_"
   ]
  },
  {
   "cell_type": "code",
   "execution_count": 323,
   "id": "45d4ebaf",
   "metadata": {},
   "outputs": [],
   "source": [
    "lasso_1_alt = linear_model.Lasso(alpha=0.000001, max_iter=100000)\n",
    "lasso_1_alt.fit(Ch, r_avg)\n",
    "lasso_1_alt_coef = lasso_1_alt.coef_"
   ]
  },
  {
   "cell_type": "code",
   "execution_count": 324,
   "id": "4d9b9cb0",
   "metadata": {},
   "outputs": [
    {
     "name": "stdout",
     "output_type": "stream",
     "text": [
      "EBITDAToEnterpriseValue\n",
      "FFMse1Yr\n",
      "SalesYldGrowth1Yr\n",
      "SalesPerShareGrowth3Yr\n",
      "EPSChage3YrToPrice\n",
      "IdiosyncraticRiskR2\n",
      "Alpha3Yr\n",
      "DividendGrowth1Yr\n"
     ]
    }
   ],
   "source": [
    "# Select factors with non zero coefficients\n",
    "factors_to_ols_alt = []\n",
    "for i, e in enumerate(lasso_coef):\n",
    "    if e != 0:\n",
    "        factor = control_factors.columns[i]\n",
    "        factors_to_ols_alt.append(factor)\n",
    "        print(factor)"
   ]
  },
  {
   "cell_type": "code",
   "execution_count": 325,
   "id": "ceac404e",
   "metadata": {},
   "outputs": [],
   "source": [
    "new_factor = 'MomentumResidualClassic'"
   ]
  },
  {
   "cell_type": "code",
   "execution_count": 326,
   "id": "376c7b13",
   "metadata": {},
   "outputs": [
    {
     "data": {
      "text/plain": [
       "array([ 0.        , -0.        ,  0.        , -0.        ,  0.        ,\n",
       "        0.74908307,  0.        ,  0.        , -0.        ,  0.        ,\n",
       "        0.        ,  0.        , -0.        , -0.        ,  0.        ,\n",
       "       -0.        , -0.        ,  0.        ,  0.        ,  0.        ,\n",
       "        0.        ,  0.        ,  0.        , -0.        ,  0.        ,\n",
       "        0.01812786,  0.        , -0.        , -0.        , -0.        ,\n",
       "       -0.        , -0.        , -0.        , -0.        , -0.        ,\n",
       "        0.        , -0.        , -0.        , -0.        ,  0.        ,\n",
       "       -0.        , -0.        , -0.        , -0.        ,  0.        ,\n",
       "        0.        ,  0.        ,  0.        ,  0.        ,  0.        ,\n",
       "        0.        ,  0.        , -0.        ,  0.        , -0.        ,\n",
       "       -0.        ,  0.        ,  0.        ,  0.        ,  0.        ,\n",
       "        0.        ,  0.        ,  0.        ,  0.        ,  0.        ,\n",
       "        0.        ,  0.        ,  0.        , -0.        , -0.        ,\n",
       "       -0.        , -0.        ,  0.        ,  0.        ,  0.        ,\n",
       "       -0.        ,  0.        ,  0.        ,  0.        ,  0.        ,\n",
       "        0.        ,  0.        ,  0.        ])"
      ]
     },
     "execution_count": 326,
     "metadata": {},
     "output_type": "execute_result"
    }
   ],
   "source": [
    "lasso_2_alt = linear_model.Lasso(alpha=0.0001, max_iter=100000)\n",
    "lasso_2_alt.fit(Ch, Cg[new_factor])\n",
    "lasso_2_alt.coef_"
   ]
  },
  {
   "cell_type": "code",
   "execution_count": 327,
   "id": "a8fc821f",
   "metadata": {},
   "outputs": [],
   "source": [
    "lasso_2_alt_coef = lasso_2_alt.coef_"
   ]
  },
  {
   "cell_type": "code",
   "execution_count": 328,
   "id": "53e2c9b2",
   "metadata": {},
   "outputs": [
    {
     "name": "stdout",
     "output_type": "stream",
     "text": [
      "ClassicMomentumRelativeToSP500\n",
      "ClassicMomentum\n"
     ]
    }
   ],
   "source": [
    "# We will take only second regressor because it remains non-zero with more than one penalty value\n",
    "for i, e in enumerate(lasso_2_alt_coef):\n",
    "    if e != 0:\n",
    "        factor = control_factors.columns[i]\n",
    "        if factor not in factors_to_ols_alt:\n",
    "            factors_to_ols_alt.append(factor)\n",
    "            print(factor)"
   ]
  },
  {
   "cell_type": "markdown",
   "id": "b980c57c",
   "metadata": {},
   "source": [
    "### Estimate SDF coefficients of chosen factors by OLS regression"
   ]
  },
  {
   "cell_type": "code",
   "execution_count": 308,
   "id": "515b7fb7",
   "metadata": {},
   "outputs": [],
   "source": [
    "# Post-selection estimation (OLS)\n",
    "X = pd.concat([Cg[new_factor], Ch[factors_to_ols_alt]], axis=1, join='inner')\n",
    "ols = linear_model.LinearRegression()\n",
    "ols.fit(X, r_avg)\n",
    "lambda_ = ols.coef_"
   ]
  },
  {
   "cell_type": "code",
   "execution_count": 309,
   "id": "82327952",
   "metadata": {},
   "outputs": [
    {
     "data": {
      "text/plain": [
       "0.00028428837115797875"
      ]
     },
     "execution_count": 309,
     "metadata": {},
     "output_type": "execute_result"
    }
   ],
   "source": [
    "ols.intercept_"
   ]
  },
  {
   "cell_type": "code",
   "execution_count": 276,
   "id": "bf6f4407",
   "metadata": {},
   "outputs": [
    {
     "data": {
      "text/plain": [
       "array([-0.77732136,  0.05888569,  0.17753288,  0.35776146, -0.02644425,\n",
       "        0.32713985,  0.05227839,  0.68078323, -0.60538215, -0.00205923,\n",
       "        0.50840049,  0.50840049])"
      ]
     },
     "execution_count": 276,
     "metadata": {},
     "output_type": "execute_result"
    }
   ],
   "source": [
    "lambda_"
   ]
  },
  {
   "cell_type": "code",
   "execution_count": 277,
   "id": "dae2a4f8",
   "metadata": {},
   "outputs": [
    {
     "name": "stdout",
     "output_type": "stream",
     "text": [
      "MomentumResidualClassic   -0.7773213635500208\n",
      "EBITDAToEnterpriseValue   0.05888568626869686\n",
      "FFMse1Yr   0.1775328753382895\n",
      "SalesYldGrowth1Yr   0.35776146021258404\n",
      "SalesPerShareGrowth3Yr   -0.026444254121689492\n",
      "EPSChage3YrToPrice   0.32713984844948274\n",
      "IdiosyncraticRiskR2   0.052278387376487476\n",
      "Alpha3Yr   0.6807832300994796\n",
      "DividendGrowth1Yr   -0.605382151474844\n",
      "BuybackYield   -0.0020592348947901136\n",
      "ClassicMomentumRelativeToSP500   0.5084004858111467\n",
      "ClassicMomentum   0.5084004858111472\n"
     ]
    }
   ],
   "source": [
    "for i, e in enumerate([new_factor] + factors_to_ols_alt):\n",
    "    print(e, ' ', lambda_[i])"
   ]
  },
  {
   "cell_type": "markdown",
   "id": "5943baf5",
   "metadata": {},
   "source": [
    "### Test inference of new factor SDF loading (OLS coefficient)"
   ]
  },
  {
   "cell_type": "code",
   "execution_count": 278,
   "id": "9caa917a",
   "metadata": {},
   "outputs": [],
   "source": [
    "# Select factors for SDF\n",
    "sdf_factors = []\n",
    "sdf_factors.append(new_factor)\n",
    "for f in factors_to_ols_alt:\n",
    "    sdf_factors.append(f)\n",
    "sdf_factors = factors[sdf_factors]"
   ]
  },
  {
   "cell_type": "code",
   "execution_count": 279,
   "id": "194386bc",
   "metadata": {},
   "outputs": [],
   "source": [
    "i_factors = []\n",
    "for i, e in enumerate(lasso_2_coef):\n",
    "    if e != 0:\n",
    "        factor = control_factors.columns[i]\n",
    "        i_factors.append(factor)"
   ]
  },
  {
   "cell_type": "code",
   "execution_count": 280,
   "id": "7a2f04f7",
   "metadata": {},
   "outputs": [
    {
     "data": {
      "text/plain": [
       "LinearRegression()"
      ]
     },
     "execution_count": 280,
     "metadata": {},
     "output_type": "execute_result"
    }
   ],
   "source": [
    "# Calculate teta and z by OLS regression of new factor on I\n",
    "ols_inf = linear_model.LinearRegression()\n",
    "ols_inf.fit(control_factors[i_factors], test_factors[new_factor])"
   ]
  },
  {
   "cell_type": "code",
   "execution_count": 281,
   "id": "763b0050",
   "metadata": {},
   "outputs": [
    {
     "data": {
      "text/plain": [
       "array([-0.03495907,  0.02981405,  0.47388619,  0.11290891,  0.09428343,\n",
       "        0.02286703, -0.07188326,  0.47388619, -0.00697097,  0.01782316,\n",
       "        0.01980922, -0.01352134, -0.05651995, -0.11709531,  0.0964091 ,\n",
       "        0.06474397, -0.03784935,  0.40395406, -0.13245134,  0.0081192 ])"
      ]
     },
     "execution_count": 281,
     "metadata": {},
     "output_type": "execute_result"
    }
   ],
   "source": [
    "# teta\n",
    "ols_inf.coef_"
   ]
  },
  {
   "cell_type": "code",
   "execution_count": 282,
   "id": "37dfcb06",
   "metadata": {},
   "outputs": [],
   "source": [
    "# z\n",
    "z = test_factors[new_factor] - ols_inf.predict(control_factors[i_factors])"
   ]
  },
  {
   "cell_type": "code",
   "execution_count": 283,
   "id": "552950ec",
   "metadata": {},
   "outputs": [],
   "source": [
    "# sigma z\n",
    "sigma_z = pow(z, 2).sum() / len(test_factors)"
   ]
  },
  {
   "cell_type": "code",
   "execution_count": 284,
   "id": "20abde16",
   "metadata": {},
   "outputs": [],
   "source": [
    "lambda_ = np.array(lambda_).T"
   ]
  },
  {
   "cell_type": "code",
   "execution_count": 285,
   "id": "f689cecf",
   "metadata": {},
   "outputs": [
    {
     "name": "stdout",
     "output_type": "stream",
     "text": [
      "85.88276841585362\n"
     ]
    }
   ],
   "source": [
    "# П without NW \n",
    "T = len(lambda_)\n",
    "summ = 0\n",
    "for i in range(T):\n",
    "    sdf_factors_t = np.array(sdf_factors.iloc[i, :])\n",
    "    summ += pow((1 - np.matmul(lambda_, sdf_factors_t)), 2) * pow(z[i], 2)/(pow(sigma_z, 2))\n",
    "summ = summ / T\n",
    "print(summ)"
   ]
  },
  {
   "cell_type": "code",
   "execution_count": 286,
   "id": "75c0a83f",
   "metadata": {},
   "outputs": [
    {
     "name": "stdout",
     "output_type": "stream",
     "text": [
      "50.730111503745\n"
     ]
    }
   ],
   "source": [
    "# Newy-West (param = 12)\n",
    "q = 12\n",
    "summ_nw = 0\n",
    "for k in range(q):\n",
    "    for t in range(k+1, T+1):\n",
    "        sdf_factors_t = np.array(sdf_factors.iloc[t, :])\n",
    "        sdf_factors_t_k = np.array(sdf_factors.iloc[t-k, :])\n",
    "        summ_nw += (1 - k+1/(q+1+1))*(1 - np.matmul(lambda_, sdf_factors_t))*(\n",
    "            1 - np.matmul(lambda_, sdf_factors_t_k))*2*(z[t]*z[t-k])/(pow(sigma_z, 2))\n",
    "summ_nw = summ_nw / t\n",
    "print(summ_nw)    "
   ]
  },
  {
   "cell_type": "code",
   "execution_count": 287,
   "id": "21ba22ae",
   "metadata": {},
   "outputs": [
    {
     "data": {
      "text/plain": [
       "11.384406659966551"
      ]
     },
     "execution_count": 287,
     "metadata": {},
     "output_type": "execute_result"
    }
   ],
   "source": [
    "summ = (summ + summ_nw) / T\n",
    "summ"
   ]
  },
  {
   "cell_type": "code",
   "execution_count": 288,
   "id": "16a08eeb",
   "metadata": {},
   "outputs": [
    {
     "data": {
      "text/plain": [
       "0.9740126051531431"
      ]
     },
     "execution_count": 288,
     "metadata": {},
     "output_type": "execute_result"
    }
   ],
   "source": [
    "np.sqrt(summ / T)"
   ]
  },
  {
   "cell_type": "code",
   "execution_count": 310,
   "id": "71fba74d",
   "metadata": {},
   "outputs": [
    {
     "data": {
      "text/plain": [
       "-0.7980608869305169"
      ]
     },
     "execution_count": 310,
     "metadata": {},
     "output_type": "execute_result"
    }
   ],
   "source": [
    "# Critical value of statistic\n",
    "-0.7773213635500208 / 0.9740126051531431"
   ]
  }
 ],
 "metadata": {
  "kernelspec": {
   "display_name": "Python 3",
   "language": "python",
   "name": "python3"
  },
  "language_info": {
   "codemirror_mode": {
    "name": "ipython",
    "version": 3
   },
   "file_extension": ".py",
   "mimetype": "text/x-python",
   "name": "python",
   "nbconvert_exporter": "python",
   "pygments_lexer": "ipython3",
   "version": "3.8.2"
  }
 },
 "nbformat": 4,
 "nbformat_minor": 5
}
